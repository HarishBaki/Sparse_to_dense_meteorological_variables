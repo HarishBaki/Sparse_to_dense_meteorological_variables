{
 "cells": [
  {
   "cell_type": "code",
   "execution_count": 1,
   "id": "b045ab8e",
   "metadata": {},
   "outputs": [],
   "source": [
    "# %%\n",
    "import torch\n",
    "from torch.utils.data import Dataset, DataLoader\n",
    "import xarray as xr\n",
    "import numpy as np\n",
    "from scipy.spatial import cKDTree\n",
    "from scipy.interpolate import griddata\n",
    "import pandas as pd\n",
    "import time\n",
    "import os"
   ]
  },
  {
   "cell_type": "code",
   "execution_count": 2,
   "id": "14d8fd69",
   "metadata": {},
   "outputs": [],
   "source": [
    "# Load NYSM station data\n",
    "nysm = pd.read_csv('nysm.csv')\n",
    "# NYSM station lat/lon\n",
    "nysm_latlon = np.stack([\n",
    "    nysm['lat [degrees]'].values,\n",
    "    (nysm['lon [degrees]'].values + 360) % 360\n",
    "], axis=-1)"
   ]
  },
  {
   "cell_type": "code",
   "execution_count": 20,
   "id": "422c1f22",
   "metadata": {},
   "outputs": [],
   "source": [
    "# %%\n",
    "# Loading the NYSM station data\n",
    "NYSM = xr.open_dataset('data/NYSM.nc')\n",
    "NYSM['longitude'] = (NYSM['longitude']+360) % 360   # this is needed to match the RTMA lon\n",
    "NYSM_lat = NYSM.latitude.values\n",
    "NYSM_lon = NYSM.longitude.values\n",
    "# Precompute grid KDTree\n",
    "station_points = np.stack([NYSM_lat.ravel(), NYSM_lon.ravel()], axis=-1)\n",
    "tree = cKDTree(station_points)\n",
    "# Query the station locations\n",
    "_, station_indices = tree.query(nysm_latlon)\n",
    "NYSM = NYSM.isel(station=station_indices)  # this is needed to match the nysm_latlon order"
   ]
  },
  {
   "cell_type": "code",
   "execution_count": 21,
   "id": "4fbd0e31",
   "metadata": {},
   "outputs": [
    {
     "name": "stdout",
     "output_type": "stream",
     "text": [
      "Number of total instances in NYSM: 631008\n",
      "for i10fg, 99 number of stations are showing no missing instances.\n",
      "for si10, 99 number of stations are showing no missing instances.\n",
      "for t2m, 95 number of stations are showing no missing instances.\n",
      "for sh2, 17 number of stations are showing no missing instances.\n"
     ]
    }
   ],
   "source": [
    "# Checking the missing values across all the years\n",
    "print(f'Number of total instances in NYSM: {len(NYSM.time)}')\n",
    "for var in ['i10fg','si10','t2m','sh2']:\n",
    "    for i in range(1,len(NYSM['station'])+1):\n",
    "        missing_condition = NYSM[var].isnull().sum(dim='station') > i \n",
    "        missing_instances = len(NYSM['time'].where(missing_condition).dropna(dim='time'))\n",
    "        if missing_instances == 0:\n",
    "            print(f'for {var}, {len(NYSM['station'])-i} number of stations are showing no missing instances.')\n",
    "            break"
   ]
  },
  {
   "cell_type": "markdown",
   "id": "0b3f4da8",
   "metadata": {},
   "source": [
    "# Identifying missing instances across any station"
   ]
  },
  {
   "cell_type": "code",
   "execution_count": 277,
   "id": "28cd4a00",
   "metadata": {},
   "outputs": [
    {
     "name": "stdout",
     "output_type": "stream",
     "text": [
      "Number of total instances in NYSM: 8737\n",
      "for i10fg, 1679 number of missing instances exist.\n",
      "for si10, 1679 number of missing instances exist.\n",
      "for t2m, 3841 number of missing instances exist.\n",
      "for sh2, 5815 number of missing instances exist.\n",
      " Total number of missing instances: 5853, and non-missing instances: 2884, during 2023.\n"
     ]
    }
   ],
   "source": [
    "# Checking the missing values during 2023, at every hour\n",
    "NYSM_subset = NYSM.sel(time=slice('2023-01-01T00:00', '2023-12-31T00:00'))\n",
    "NYSM_subset = NYSM_subset.resample(time='1h').nearest()\n",
    "print(f'Number of total instances in NYSM: {len(NYSM_subset.time)}')\n",
    "all_missing_instances = []\n",
    "for var in ['i10fg','si10','t2m','sh2']:\n",
    "    missing_condition = NYSM_subset[var].isnull().any(dim='station')\n",
    "    missing_instances = NYSM_subset['time'].where(missing_condition).dropna(dim='time')\n",
    "    print(f'for {var}, {len(missing_instances)} number of missing instances exist.')\n",
    "    all_missing_instances.append(missing_instances.time)\n",
    "all_missing_instances = xr.concat(all_missing_instances, dim='time').drop_duplicates('time')\n",
    "print( f' Total number of missing instances: {len(all_missing_instances)}, and non-missing instances: {len(NYSM_subset.time) - len(all_missing_instances)}, during 2023.')"
   ]
  },
  {
   "cell_type": "markdown",
   "id": "03223d5f",
   "metadata": {},
   "source": [
    "# Identifying number of stations with no missing instances"
   ]
  },
  {
   "cell_type": "code",
   "execution_count": 262,
   "id": "252aca1e",
   "metadata": {},
   "outputs": [
    {
     "name": "stdout",
     "output_type": "stream",
     "text": [
      "Number of total instances in NYSM: 8737\n",
      "For i10fg, Maximum number of stations missing during a same time instance: 9\n",
      "For si10, Maximum number of stations missing during a same time instance: 9\n",
      "For t2m, Maximum number of stations missing during a same time instance: 31\n",
      "For sh2, Maximum number of stations missing during a same time instance: 31\n"
     ]
    }
   ],
   "source": [
    "# Checking the missing values during 2023, at every hour\n",
    "NYSM_subset = NYSM.sel(time=slice('2023-01-01T00:00', '2023-12-31T00:00'))\n",
    "NYSM_subset = NYSM_subset.resample(time='1h').nearest()\n",
    "print(f'Number of total instances in NYSM: {len(NYSM_subset.time)}')\n",
    "for var in ['i10fg','si10','t2m','sh2']:\n",
    "    missing_condition = NYSM_subset[var].isnull().sum(dim='station')    # for each time step, how many stations are missing\n",
    "    max_missing_stations = missing_condition.sortby(missing_condition, ascending=False)[0]  # sorting and getting the maximum number of stations missing during a same time instance\n",
    "    print(f'For {var}, Maximum number of stations missing during a same time instance: {max_missing_stations.values}')\n",
    "    # This number of stations we can deselect randomly during each instance. "
   ]
  },
  {
   "cell_type": "markdown",
   "id": "4cc6e69b",
   "metadata": {},
   "source": [
    "- Though the above script says morethan 95 stations are having non missing instances, the stations are not consistant across the times. \n",
    "- There is not a single station that doesn't have none values. \n",
    "- It is very hard to identify commnly missing stations, during all instances. \n",
    "- Rather, we can select the required number of stations that are having maximum number of missing time instances. "
   ]
  },
  {
   "cell_type": "code",
   "execution_count": null,
   "id": "b8881e52",
   "metadata": {},
   "outputs": [
    {
     "name": "stdout",
     "output_type": "stream",
     "text": [
      "Number of total instances in NYSM: 8737\n",
      "For i10fg, Stations with maximum missing instances are: ['CROG' 'SCHU' 'DUAN' 'DEPO' 'CLAR' 'ELDR' 'RAND' 'WEST' 'TUPP']\n",
      "For si10, Stations with maximum missing instances are: ['CROG' 'SCHU' 'DUAN' 'DEPO' 'CLAR' 'ELDR' 'RAND' 'WEST' 'TUPP']\n",
      "For t2m, Stations with maximum missing instances are: ['CROG' 'CHAZ' 'CLYM' 'DUAN' 'POTS' 'CINC' 'CLAR' 'BSPA' 'BATA' 'SCHU'\n",
      " 'WALT' 'WALL' 'FAYE' 'SHER' 'TUPP' 'CSQR' 'WOLC' 'ELDR' 'WEST' 'SBRI'\n",
      " 'CAPE' 'SCHO' 'MALO' 'EDWA' 'OLDF' 'KIND' 'DEPO' 'HARP' 'GFAL' 'COHO'\n",
      " 'RAND']\n",
      "For sh2, Stations with maximum missing instances are: ['CROG' 'TICO' 'BING' 'CLYM' 'CHAZ' 'CINC' 'LAUR' 'OWEG' 'DUAN' 'CLAR'\n",
      " 'POTS' 'SOUT' 'BSPA' 'KIND' 'BATA' 'SCHU' 'WALT' 'SHER' 'WALL' 'FAYE'\n",
      " 'TUPP' 'CSQR' 'WOLC' 'EAUR' 'ELDR' 'WEST' 'SBRI' 'BELD' 'CAPE' 'TANN'\n",
      " 'OLDF']\n",
      " Total number of stations with maximum missing instances: 39, and non-missing stations: 87, during 2023.\n"
     ]
    }
   ],
   "source": [
    "# Checking the missing values during 2023, at every hour\n",
    "NYSM_subset = NYSM.sel(time=slice('2023-01-01T00:00', '2023-12-31T00:00'))\n",
    "NYSM_subset = NYSM_subset.resample(time='1h').nearest()\n",
    "print(f'Number of total instances in NYSM: {len(NYSM_subset.time)}')\n",
    "\n",
    "all_missing_stations = []\n",
    "for var in ['i10fg','si10','t2m','sh2']:\n",
    "    missing_condition = NYSM_subset[var].isnull().sum(dim='station')    # for each time step, how many stations are missing\n",
    "    max_missing_stations = missing_condition.sortby(missing_condition, ascending=False)[0]  # sorting and getting the maximum number of stations missing during a same time instance\n",
    "    \n",
    "    missing_condition = NYSM_subset[var].isnull().sum(dim='time')    # for each time step, how many stations are missing\n",
    "    stations_with_max_missing_instances = missing_condition.sortby(missing_condition, ascending=False)[0:max_missing_stations.values]  # sorting and getting the stations with maximum missing instances\n",
    "    print(f'For {var}, Stations with maximum missing instances are: {stations_with_max_missing_instances.station.values}')\n",
    "    # These are the stations we can deselect randomly during each instance. \n",
    "    all_missing_stations.append(stations_with_max_missing_instances.station)\n",
    "\n",
    "all_missing_stations = xr.concat(all_missing_stations, dim='station').drop_duplicates('station')\n",
    "\n",
    "print( f' Total number of stations with maximum missing instances: {len(all_missing_stations)}, and non-missing stations: {len(NYSM_subset.station) - len(all_missing_stations)}, during 2023.')"
   ]
  },
  {
   "cell_type": "markdown",
   "id": "44b72861",
   "metadata": {},
   "source": [
    "- Since, there is no station that is not missing during any time instance, it is better to train a model with random stations at every instance. "
   ]
  },
  {
   "cell_type": "code",
   "execution_count": null,
   "id": "a12fdfc5",
   "metadata": {},
   "outputs": [],
   "source": []
  }
 ],
 "metadata": {
  "kernelspec": {
   "display_name": "Python 3",
   "language": "python",
   "name": "python3"
  },
  "language_info": {
   "codemirror_mode": {
    "name": "ipython",
    "version": 3
   },
   "file_extension": ".py",
   "mimetype": "text/x-python",
   "name": "python",
   "nbconvert_exporter": "python",
   "pygments_lexer": "ipython3",
   "version": "3.12.3"
  }
 },
 "nbformat": 4,
 "nbformat_minor": 5
}
