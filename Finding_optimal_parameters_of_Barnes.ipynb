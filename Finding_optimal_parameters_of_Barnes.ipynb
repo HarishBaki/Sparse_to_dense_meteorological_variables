{
 "cells": [
  {
   "cell_type": "code",
   "execution_count": 2,
   "id": "ec1edafe",
   "metadata": {},
   "outputs": [],
   "source": [
    "import torch\n",
    "import numpy as np\n",
    "import pandas as pd\n",
    "import xarray as xr\n",
    "import dask\n",
    "import os, sys\n",
    "import glob\n",
    "import zarr\n",
    "from joblib import Parallel, delayed\n",
    "import os\n",
    "import dask.array as da\n",
    "import os, sys, time, glob, re\n",
    "\n",
    "from scipy.spatial import cKDTree\n",
    "from scipy.interpolate import griddata\n",
    "from metpy.interpolate import interpolate_to_points\n",
    "\n",
    "from skopt.sampler import Sobol\n",
    "from skopt.space import Real\n",
    "\n",
    "from util import init_zarr_store\n",
    "from losses import MaskedMSELoss, MaskedRMSELoss, MaskedTVLoss, MaskedCharbonnierLoss, MaskedPSNR, MaskedSSIM"
   ]
  },
  {
   "cell_type": "code",
   "execution_count": null,
   "id": "09d6c419",
   "metadata": {},
   "outputs": [
    {
     "name": "stdout",
     "output_type": "stream",
     "text": [
      "        gamma  kappa_star\n",
      "0    0.067301    4.816287\n",
      "1    0.242301    6.816287\n",
      "2    0.329801    5.816287\n",
      "3    0.154801    3.816287\n",
      "4    0.198551    6.316287\n",
      "..        ...         ...\n",
      "123  0.201285    3.972537\n",
      "124  0.157535    6.472537\n",
      "125  0.332535    4.472537\n",
      "126  0.245035    5.472537\n",
      "127  0.070035    3.472537\n",
      "\n",
      "[128 rows x 2 columns]\n"
     ]
    }
   ],
   "source": [
    "'''\n",
    "# Define the search space\n",
    "space = [\n",
    "    Real(0.05, 0.4, name='gamma'),\n",
    "    Real(3.0, 7.0, name='kappa_star')\n",
    "]\n",
    "# Generate Sobol samples\n",
    "sobol = Sobol(skip=0)\n",
    "n_samples = 128  # You can adjust this\n",
    "samples = sobol.generate(space, n_samples)\n",
    "\n",
    "# Convert to DataFrame for convenience\n",
    "df = pd.DataFrame(samples, columns=['gamma', 'kappa_star'])\n",
    "print(df)\n",
    "df.to_csv('Barnes_parameters_Sobol_sequence.csv')\n",
    "'''"
   ]
  },
  {
   "cell_type": "code",
   "execution_count": 4,
   "id": "8c851644",
   "metadata": {},
   "outputs": [],
   "source": [
    "var_name = 'i10fg'\n",
    "test_dates_range = ['2023-01-01T00','2023-12-31T23']\n",
    "dates = pd.date_range(start=test_dates_range[0], end=test_dates_range[1], freq='h')\n",
    "yyyymmdd = pd.Series(dates.year*10000 + dates.month*100 + dates.day).unique()\n",
    "source_zarr_store = f'data/RTMA.zarr'"
   ]
  },
  {
   "cell_type": "code",
   "execution_count": 5,
   "id": "36320b8e",
   "metadata": {},
   "outputs": [],
   "source": [
    "orography = xr.open_dataset('orography.nc')\n",
    "RTMA_lat = orography.latitude.values    # Nx, Ny 2D arrays\n",
    "RTMA_lon = orography.longitude.values   # Nx, Ny 2D arrays\n",
    "orography = orography.orog.values\n",
    "\n",
    "mask = xr.open_dataset('mask_2d.nc').mask\n",
    "mask_tensor = torch.tensor(mask.values.astype(np.float32))\n",
    "\n",
    "# Initiate the metrics\n",
    "metrics = {\n",
    "    'masked_rmse': MaskedRMSELoss(mask_tensor), \n",
    "    'masked_psnr': MaskedPSNR(mask_tensor),\n",
    "    'masked_ssim': MaskedSSIM(mask_tensor),\n",
    "}\n",
    "\n",
    "# Load NYSM station data\n",
    "nysm = pd.read_csv('nysm.csv')\n",
    "# NYSM station lat/lon\n",
    "nysm_latlon = np.stack([\n",
    "    nysm['lat [degrees]'].values,\n",
    "    (nysm['lon [degrees]'].values + 360) % 360\n",
    "], axis=-1) # shape: (N, 2)\n",
    "\n",
    "# Precompute grid KDTree\n",
    "grid_points = np.stack([RTMA_lat.ravel(), RTMA_lon.ravel()], axis=-1)\n",
    "tree = cKDTree(grid_points)\n",
    "# Query the station locations\n",
    "_, indices_flat = tree.query(nysm_latlon)\n",
    "# Convert flat indices to 2D (y, x)\n",
    "y_indices, x_indices = np.unravel_index(indices_flat, orography.shape)\n",
    "\n",
    "station_mask = np.zeros_like(RTMA_lat, dtype=np.uint8)\n",
    "station_mask[y_indices, x_indices] = 1  # Set 1 at the station locations"
   ]
  },
  {
   "cell_type": "code",
   "execution_count": 6,
   "id": "44765553",
   "metadata": {},
   "outputs": [
    {
     "data": {
      "text/html": [
       "<div><svg style=\"position: absolute; width: 0; height: 0; overflow: hidden\">\n",
       "<defs>\n",
       "<symbol id=\"icon-database\" viewBox=\"0 0 32 32\">\n",
       "<path d=\"M16 0c-8.837 0-16 2.239-16 5v4c0 2.761 7.163 5 16 5s16-2.239 16-5v-4c0-2.761-7.163-5-16-5z\"></path>\n",
       "<path d=\"M16 17c-8.837 0-16-2.239-16-5v6c0 2.761 7.163 5 16 5s16-2.239 16-5v-6c0 2.761-7.163 5-16 5z\"></path>\n",
       "<path d=\"M16 26c-8.837 0-16-2.239-16-5v6c0 2.761 7.163 5 16 5s16-2.239 16-5v-6c0 2.761-7.163 5-16 5z\"></path>\n",
       "</symbol>\n",
       "<symbol id=\"icon-file-text2\" viewBox=\"0 0 32 32\">\n",
       "<path d=\"M28.681 7.159c-0.694-0.947-1.662-2.053-2.724-3.116s-2.169-2.030-3.116-2.724c-1.612-1.182-2.393-1.319-2.841-1.319h-15.5c-1.378 0-2.5 1.121-2.5 2.5v27c0 1.378 1.122 2.5 2.5 2.5h23c1.378 0 2.5-1.122 2.5-2.5v-19.5c0-0.448-0.137-1.23-1.319-2.841zM24.543 5.457c0.959 0.959 1.712 1.825 2.268 2.543h-4.811v-4.811c0.718 0.556 1.584 1.309 2.543 2.268zM28 29.5c0 0.271-0.229 0.5-0.5 0.5h-23c-0.271 0-0.5-0.229-0.5-0.5v-27c0-0.271 0.229-0.5 0.5-0.5 0 0 15.499-0 15.5 0v7c0 0.552 0.448 1 1 1h7v19.5z\"></path>\n",
       "<path d=\"M23 26h-14c-0.552 0-1-0.448-1-1s0.448-1 1-1h14c0.552 0 1 0.448 1 1s-0.448 1-1 1z\"></path>\n",
       "<path d=\"M23 22h-14c-0.552 0-1-0.448-1-1s0.448-1 1-1h14c0.552 0 1 0.448 1 1s-0.448 1-1 1z\"></path>\n",
       "<path d=\"M23 18h-14c-0.552 0-1-0.448-1-1s0.448-1 1-1h14c0.552 0 1 0.448 1 1s-0.448 1-1 1z\"></path>\n",
       "</symbol>\n",
       "</defs>\n",
       "</svg>\n",
       "<style>/* CSS stylesheet for displaying xarray objects in jupyterlab.\n",
       " *\n",
       " */\n",
       "\n",
       ":root {\n",
       "  --xr-font-color0: var(--jp-content-font-color0, rgba(0, 0, 0, 1));\n",
       "  --xr-font-color2: var(--jp-content-font-color2, rgba(0, 0, 0, 0.54));\n",
       "  --xr-font-color3: var(--jp-content-font-color3, rgba(0, 0, 0, 0.38));\n",
       "  --xr-border-color: var(--jp-border-color2, #e0e0e0);\n",
       "  --xr-disabled-color: var(--jp-layout-color3, #bdbdbd);\n",
       "  --xr-background-color: var(--jp-layout-color0, white);\n",
       "  --xr-background-color-row-even: var(--jp-layout-color1, white);\n",
       "  --xr-background-color-row-odd: var(--jp-layout-color2, #eeeeee);\n",
       "}\n",
       "\n",
       "html[theme=\"dark\"],\n",
       "html[data-theme=\"dark\"],\n",
       "body[data-theme=\"dark\"],\n",
       "body.vscode-dark {\n",
       "  --xr-font-color0: rgba(255, 255, 255, 1);\n",
       "  --xr-font-color2: rgba(255, 255, 255, 0.54);\n",
       "  --xr-font-color3: rgba(255, 255, 255, 0.38);\n",
       "  --xr-border-color: #1f1f1f;\n",
       "  --xr-disabled-color: #515151;\n",
       "  --xr-background-color: #111111;\n",
       "  --xr-background-color-row-even: #111111;\n",
       "  --xr-background-color-row-odd: #313131;\n",
       "}\n",
       "\n",
       ".xr-wrap {\n",
       "  display: block !important;\n",
       "  min-width: 300px;\n",
       "  max-width: 700px;\n",
       "}\n",
       "\n",
       ".xr-text-repr-fallback {\n",
       "  /* fallback to plain text repr when CSS is not injected (untrusted notebook) */\n",
       "  display: none;\n",
       "}\n",
       "\n",
       ".xr-header {\n",
       "  padding-top: 6px;\n",
       "  padding-bottom: 6px;\n",
       "  margin-bottom: 4px;\n",
       "  border-bottom: solid 1px var(--xr-border-color);\n",
       "}\n",
       "\n",
       ".xr-header > div,\n",
       ".xr-header > ul {\n",
       "  display: inline;\n",
       "  margin-top: 0;\n",
       "  margin-bottom: 0;\n",
       "}\n",
       "\n",
       ".xr-obj-type,\n",
       ".xr-array-name {\n",
       "  margin-left: 2px;\n",
       "  margin-right: 10px;\n",
       "}\n",
       "\n",
       ".xr-obj-type {\n",
       "  color: var(--xr-font-color2);\n",
       "}\n",
       "\n",
       ".xr-sections {\n",
       "  padding-left: 0 !important;\n",
       "  display: grid;\n",
       "  grid-template-columns: 150px auto auto 1fr 0 20px 0 20px;\n",
       "}\n",
       "\n",
       ".xr-section-item {\n",
       "  display: contents;\n",
       "}\n",
       "\n",
       ".xr-section-item input {\n",
       "  display: inline-block;\n",
       "  opacity: 0;\n",
       "  height: 0;\n",
       "}\n",
       "\n",
       ".xr-section-item input + label {\n",
       "  color: var(--xr-disabled-color);\n",
       "}\n",
       "\n",
       ".xr-section-item input:enabled + label {\n",
       "  cursor: pointer;\n",
       "  color: var(--xr-font-color2);\n",
       "}\n",
       "\n",
       ".xr-section-item input:focus + label {\n",
       "  border: 2px solid var(--xr-font-color0);\n",
       "}\n",
       "\n",
       ".xr-section-item input:enabled + label:hover {\n",
       "  color: var(--xr-font-color0);\n",
       "}\n",
       "\n",
       ".xr-section-summary {\n",
       "  grid-column: 1;\n",
       "  color: var(--xr-font-color2);\n",
       "  font-weight: 500;\n",
       "}\n",
       "\n",
       ".xr-section-summary > span {\n",
       "  display: inline-block;\n",
       "  padding-left: 0.5em;\n",
       "}\n",
       "\n",
       ".xr-section-summary-in:disabled + label {\n",
       "  color: var(--xr-font-color2);\n",
       "}\n",
       "\n",
       ".xr-section-summary-in + label:before {\n",
       "  display: inline-block;\n",
       "  content: \"►\";\n",
       "  font-size: 11px;\n",
       "  width: 15px;\n",
       "  text-align: center;\n",
       "}\n",
       "\n",
       ".xr-section-summary-in:disabled + label:before {\n",
       "  color: var(--xr-disabled-color);\n",
       "}\n",
       "\n",
       ".xr-section-summary-in:checked + label:before {\n",
       "  content: \"▼\";\n",
       "}\n",
       "\n",
       ".xr-section-summary-in:checked + label > span {\n",
       "  display: none;\n",
       "}\n",
       "\n",
       ".xr-section-summary,\n",
       ".xr-section-inline-details {\n",
       "  padding-top: 4px;\n",
       "  padding-bottom: 4px;\n",
       "}\n",
       "\n",
       ".xr-section-inline-details {\n",
       "  grid-column: 2 / -1;\n",
       "}\n",
       "\n",
       ".xr-section-details {\n",
       "  display: none;\n",
       "  grid-column: 1 / -1;\n",
       "  margin-bottom: 5px;\n",
       "}\n",
       "\n",
       ".xr-section-summary-in:checked ~ .xr-section-details {\n",
       "  display: contents;\n",
       "}\n",
       "\n",
       ".xr-array-wrap {\n",
       "  grid-column: 1 / -1;\n",
       "  display: grid;\n",
       "  grid-template-columns: 20px auto;\n",
       "}\n",
       "\n",
       ".xr-array-wrap > label {\n",
       "  grid-column: 1;\n",
       "  vertical-align: top;\n",
       "}\n",
       "\n",
       ".xr-preview {\n",
       "  color: var(--xr-font-color3);\n",
       "}\n",
       "\n",
       ".xr-array-preview,\n",
       ".xr-array-data {\n",
       "  padding: 0 5px !important;\n",
       "  grid-column: 2;\n",
       "}\n",
       "\n",
       ".xr-array-data,\n",
       ".xr-array-in:checked ~ .xr-array-preview {\n",
       "  display: none;\n",
       "}\n",
       "\n",
       ".xr-array-in:checked ~ .xr-array-data,\n",
       ".xr-array-preview {\n",
       "  display: inline-block;\n",
       "}\n",
       "\n",
       ".xr-dim-list {\n",
       "  display: inline-block !important;\n",
       "  list-style: none;\n",
       "  padding: 0 !important;\n",
       "  margin: 0;\n",
       "}\n",
       "\n",
       ".xr-dim-list li {\n",
       "  display: inline-block;\n",
       "  padding: 0;\n",
       "  margin: 0;\n",
       "}\n",
       "\n",
       ".xr-dim-list:before {\n",
       "  content: \"(\";\n",
       "}\n",
       "\n",
       ".xr-dim-list:after {\n",
       "  content: \")\";\n",
       "}\n",
       "\n",
       ".xr-dim-list li:not(:last-child):after {\n",
       "  content: \",\";\n",
       "  padding-right: 5px;\n",
       "}\n",
       "\n",
       ".xr-has-index {\n",
       "  font-weight: bold;\n",
       "}\n",
       "\n",
       ".xr-var-list,\n",
       ".xr-var-item {\n",
       "  display: contents;\n",
       "}\n",
       "\n",
       ".xr-var-item > div,\n",
       ".xr-var-item label,\n",
       ".xr-var-item > .xr-var-name span {\n",
       "  background-color: var(--xr-background-color-row-even);\n",
       "  margin-bottom: 0;\n",
       "}\n",
       "\n",
       ".xr-var-item > .xr-var-name:hover span {\n",
       "  padding-right: 5px;\n",
       "}\n",
       "\n",
       ".xr-var-list > li:nth-child(odd) > div,\n",
       ".xr-var-list > li:nth-child(odd) > label,\n",
       ".xr-var-list > li:nth-child(odd) > .xr-var-name span {\n",
       "  background-color: var(--xr-background-color-row-odd);\n",
       "}\n",
       "\n",
       ".xr-var-name {\n",
       "  grid-column: 1;\n",
       "}\n",
       "\n",
       ".xr-var-dims {\n",
       "  grid-column: 2;\n",
       "}\n",
       "\n",
       ".xr-var-dtype {\n",
       "  grid-column: 3;\n",
       "  text-align: right;\n",
       "  color: var(--xr-font-color2);\n",
       "}\n",
       "\n",
       ".xr-var-preview {\n",
       "  grid-column: 4;\n",
       "}\n",
       "\n",
       ".xr-index-preview {\n",
       "  grid-column: 2 / 5;\n",
       "  color: var(--xr-font-color2);\n",
       "}\n",
       "\n",
       ".xr-var-name,\n",
       ".xr-var-dims,\n",
       ".xr-var-dtype,\n",
       ".xr-preview,\n",
       ".xr-attrs dt {\n",
       "  white-space: nowrap;\n",
       "  overflow: hidden;\n",
       "  text-overflow: ellipsis;\n",
       "  padding-right: 10px;\n",
       "}\n",
       "\n",
       ".xr-var-name:hover,\n",
       ".xr-var-dims:hover,\n",
       ".xr-var-dtype:hover,\n",
       ".xr-attrs dt:hover {\n",
       "  overflow: visible;\n",
       "  width: auto;\n",
       "  z-index: 1;\n",
       "}\n",
       "\n",
       ".xr-var-attrs,\n",
       ".xr-var-data,\n",
       ".xr-index-data {\n",
       "  display: none;\n",
       "  background-color: var(--xr-background-color) !important;\n",
       "  padding-bottom: 5px !important;\n",
       "}\n",
       "\n",
       ".xr-var-attrs-in:checked ~ .xr-var-attrs,\n",
       ".xr-var-data-in:checked ~ .xr-var-data,\n",
       ".xr-index-data-in:checked ~ .xr-index-data {\n",
       "  display: block;\n",
       "}\n",
       "\n",
       ".xr-var-data > table {\n",
       "  float: right;\n",
       "}\n",
       "\n",
       ".xr-var-name span,\n",
       ".xr-var-data,\n",
       ".xr-index-name div,\n",
       ".xr-index-data,\n",
       ".xr-attrs {\n",
       "  padding-left: 25px !important;\n",
       "}\n",
       "\n",
       ".xr-attrs,\n",
       ".xr-var-attrs,\n",
       ".xr-var-data,\n",
       ".xr-index-data {\n",
       "  grid-column: 1 / -1;\n",
       "}\n",
       "\n",
       "dl.xr-attrs {\n",
       "  padding: 0;\n",
       "  margin: 0;\n",
       "  display: grid;\n",
       "  grid-template-columns: 125px auto;\n",
       "}\n",
       "\n",
       ".xr-attrs dt,\n",
       ".xr-attrs dd {\n",
       "  padding: 0;\n",
       "  margin: 0;\n",
       "  float: left;\n",
       "  padding-right: 10px;\n",
       "  width: auto;\n",
       "}\n",
       "\n",
       ".xr-attrs dt {\n",
       "  font-weight: normal;\n",
       "  grid-column: 1;\n",
       "}\n",
       "\n",
       ".xr-attrs dt:hover span {\n",
       "  display: inline-block;\n",
       "  background: var(--xr-background-color);\n",
       "  padding-right: 10px;\n",
       "}\n",
       "\n",
       ".xr-attrs dd {\n",
       "  grid-column: 2;\n",
       "  white-space: pre-wrap;\n",
       "  word-break: break-all;\n",
       "}\n",
       "\n",
       ".xr-icon-database,\n",
       ".xr-icon-file-text2,\n",
       ".xr-no-icon {\n",
       "  display: inline-block;\n",
       "  vertical-align: middle;\n",
       "  width: 1em;\n",
       "  height: 1.5em !important;\n",
       "  stroke-width: 0;\n",
       "  stroke: currentColor;\n",
       "  fill: currentColor;\n",
       "}\n",
       "</style><pre class='xr-text-repr-fallback'>&lt;xarray.DataArray &#x27;time&#x27; (time: 0)&gt; Size: 0B\n",
       "array([], dtype=&#x27;datetime64[ns]&#x27;)\n",
       "Coordinates:\n",
       "  * time     (time) datetime64[ns] 0B </pre><div class='xr-wrap' style='display:none'><div class='xr-header'><div class='xr-obj-type'>xarray.DataArray</div><div class='xr-array-name'>'time'</div><ul class='xr-dim-list'><li><span class='xr-has-index'>time</span>: 0</li></ul></div><ul class='xr-sections'><li class='xr-section-item'><div class='xr-array-wrap'><input id='section-28b470a3-5fd5-409c-93e0-450c562552d1' class='xr-array-in' type='checkbox' checked><label for='section-28b470a3-5fd5-409c-93e0-450c562552d1' title='Show/hide data repr'><svg class='icon xr-icon-database'><use xlink:href='#icon-database'></use></svg></label><div class='xr-array-preview xr-preview'><span></span></div><div class='xr-array-data'><pre>array([], dtype=&#x27;datetime64[ns]&#x27;)</pre></div></div></li><li class='xr-section-item'><input id='section-b9cd1835-a3b3-43ec-99f0-3af1240ed4eb' class='xr-section-summary-in' type='checkbox'  checked><label for='section-b9cd1835-a3b3-43ec-99f0-3af1240ed4eb' class='xr-section-summary' >Coordinates: <span>(1)</span></label><div class='xr-section-inline-details'></div><div class='xr-section-details'><ul class='xr-var-list'><li class='xr-var-item'><div class='xr-var-name'><span class='xr-has-index'>time</span></div><div class='xr-var-dims'>(time)</div><div class='xr-var-dtype'>datetime64[ns]</div><div class='xr-var-preview xr-preview'></div><input id='attrs-7f89fba5-fcb1-4731-b8be-d3c69b7fce3d' class='xr-var-attrs-in' type='checkbox' disabled><label for='attrs-7f89fba5-fcb1-4731-b8be-d3c69b7fce3d' title='Show/Hide attributes'><svg class='icon xr-icon-file-text2'><use xlink:href='#icon-file-text2'></use></svg></label><input id='data-e0e3d503-b670-4f5a-bc0b-b0ec7d0dc498' class='xr-var-data-in' type='checkbox'><label for='data-e0e3d503-b670-4f5a-bc0b-b0ec7d0dc498' title='Show/Hide data repr'><svg class='icon xr-icon-database'><use xlink:href='#icon-database'></use></svg></label><div class='xr-var-attrs'><dl class='xr-attrs'></dl></div><div class='xr-var-data'><pre>array([], dtype=&#x27;datetime64[ns]&#x27;)</pre></div></li></ul></div></li><li class='xr-section-item'><input id='section-974fe376-56d5-4413-9dc9-b8b3de143b81' class='xr-section-summary-in' type='checkbox'  ><label for='section-974fe376-56d5-4413-9dc9-b8b3de143b81' class='xr-section-summary' >Indexes: <span>(1)</span></label><div class='xr-section-inline-details'></div><div class='xr-section-details'><ul class='xr-var-list'><li class='xr-var-item'><div class='xr-index-name'><div>time</div></div><div class='xr-index-preview'>PandasIndex</div><input type='checkbox' disabled/><label></label><input id='index-43669b90-c7e7-471b-b6a6-e269c79cc4ea' class='xr-index-data-in' type='checkbox'/><label for='index-43669b90-c7e7-471b-b6a6-e269c79cc4ea' title='Show/Hide index repr'><svg class='icon xr-icon-database'><use xlink:href='#icon-database'></use></svg></label><div class='xr-index-data'><pre>PandasIndex(DatetimeIndex([], dtype=&#x27;datetime64[ns]&#x27;, name=&#x27;time&#x27;, freq=None))</pre></div></li></ul></div></li><li class='xr-section-item'><input id='section-86a4d61c-b41f-442d-a04f-e354c2af736f' class='xr-section-summary-in' type='checkbox' disabled ><label for='section-86a4d61c-b41f-442d-a04f-e354c2af736f' class='xr-section-summary'  title='Expand/collapse section'>Attributes: <span>(0)</span></label><div class='xr-section-inline-details'></div><div class='xr-section-details'><dl class='xr-attrs'></dl></div></li></ul></div></div>"
      ],
      "text/plain": [
       "<xarray.DataArray 'time' (time: 0)> Size: 0B\n",
       "array([], dtype='datetime64[ns]')\n",
       "Coordinates:\n",
       "  * time     (time) datetime64[ns] 0B "
      ]
     },
     "execution_count": 6,
     "metadata": {},
     "output_type": "execute_result"
    }
   ],
   "source": [
    "missing_times = xr.open_dataset(f'nan_times_{var_name}.nc').time\n",
    "# remove duplicates\n",
    "missing_times = missing_times.drop_duplicates('time')\n",
    "missing_times = missing_times.sel(time=slice(test_dates_range[0],test_dates_range[1]))\n",
    "missing_times       # furtunately, only one time instance is missing, that too in si10."
   ]
  },
  {
   "cell_type": "markdown",
   "id": "18923acc",
   "metadata": {},
   "source": [
    "- No missing times exist in i10fg."
   ]
  },
  {
   "cell_type": "code",
   "execution_count": 7,
   "id": "27fbf6ea",
   "metadata": {},
   "outputs": [
    {
     "data": {
      "text/html": [
       "<div>\n",
       "<style scoped>\n",
       "    .dataframe tbody tr th:only-of-type {\n",
       "        vertical-align: middle;\n",
       "    }\n",
       "\n",
       "    .dataframe tbody tr th {\n",
       "        vertical-align: top;\n",
       "    }\n",
       "\n",
       "    .dataframe thead th {\n",
       "        text-align: right;\n",
       "    }\n",
       "</style>\n",
       "<table border=\"1\" class=\"dataframe\">\n",
       "  <thead>\n",
       "    <tr style=\"text-align: right;\">\n",
       "      <th></th>\n",
       "      <th>gamma</th>\n",
       "      <th>kappa_star</th>\n",
       "    </tr>\n",
       "  </thead>\n",
       "  <tbody>\n",
       "    <tr>\n",
       "      <th>0</th>\n",
       "      <td>0.067301</td>\n",
       "      <td>4.816287</td>\n",
       "    </tr>\n",
       "    <tr>\n",
       "      <th>1</th>\n",
       "      <td>0.242301</td>\n",
       "      <td>6.816287</td>\n",
       "    </tr>\n",
       "    <tr>\n",
       "      <th>2</th>\n",
       "      <td>0.329801</td>\n",
       "      <td>5.816287</td>\n",
       "    </tr>\n",
       "    <tr>\n",
       "      <th>3</th>\n",
       "      <td>0.154801</td>\n",
       "      <td>3.816287</td>\n",
       "    </tr>\n",
       "    <tr>\n",
       "      <th>4</th>\n",
       "      <td>0.198551</td>\n",
       "      <td>6.316287</td>\n",
       "    </tr>\n",
       "    <tr>\n",
       "      <th>...</th>\n",
       "      <td>...</td>\n",
       "      <td>...</td>\n",
       "    </tr>\n",
       "    <tr>\n",
       "      <th>123</th>\n",
       "      <td>0.201285</td>\n",
       "      <td>3.972537</td>\n",
       "    </tr>\n",
       "    <tr>\n",
       "      <th>124</th>\n",
       "      <td>0.157535</td>\n",
       "      <td>6.472537</td>\n",
       "    </tr>\n",
       "    <tr>\n",
       "      <th>125</th>\n",
       "      <td>0.332535</td>\n",
       "      <td>4.472537</td>\n",
       "    </tr>\n",
       "    <tr>\n",
       "      <th>126</th>\n",
       "      <td>0.245035</td>\n",
       "      <td>5.472537</td>\n",
       "    </tr>\n",
       "    <tr>\n",
       "      <th>127</th>\n",
       "      <td>0.070035</td>\n",
       "      <td>3.472537</td>\n",
       "    </tr>\n",
       "  </tbody>\n",
       "</table>\n",
       "<p>128 rows × 2 columns</p>\n",
       "</div>"
      ],
      "text/plain": [
       "        gamma  kappa_star\n",
       "0    0.067301    4.816287\n",
       "1    0.242301    6.816287\n",
       "2    0.329801    5.816287\n",
       "3    0.154801    3.816287\n",
       "4    0.198551    6.316287\n",
       "..        ...         ...\n",
       "123  0.201285    3.972537\n",
       "124  0.157535    6.472537\n",
       "125  0.332535    4.472537\n",
       "126  0.245035    5.472537\n",
       "127  0.070035    3.472537\n",
       "\n",
       "[128 rows x 2 columns]"
      ]
     },
     "execution_count": 7,
     "metadata": {},
     "output_type": "execute_result"
    }
   ],
   "source": [
    "# Read the saved Barnes parameter combination csv\n",
    "df = pd.read_csv('Barnes_parameters_Sobol_sequence.csv',index_col=0)\n",
    "df"
   ]
  },
  {
   "cell_type": "code",
   "execution_count": 8,
   "id": "461c7828",
   "metadata": {},
   "outputs": [
    {
     "name": "stdout",
     "output_type": "stream",
     "text": [
      "Sample 0: gamma=0.0673006837760647, kappa_star=4.816287170124966\n"
     ]
    },
    {
     "name": "stderr",
     "output_type": "stream",
     "text": [
      "100%|██████████| 365/365 [03:45<00:00,  1.62it/s]\n"
     ]
    },
    {
     "name": "stdout",
     "output_type": "stream",
     "text": [
      "Interpolation completed: 8760/8760 time steps written.\n",
      "masked_rmse: 1.4623\n",
      "masked_psnr: 32.4298\n",
      "masked_ssim: 0.9218\n",
      "Sample 1: gamma=0.2423006837760647, kappa_star=6.816287170124966\n"
     ]
    },
    {
     "name": "stderr",
     "output_type": "stream",
     "text": [
      "100%|██████████| 365/365 [03:44<00:00,  1.63it/s]\n"
     ]
    },
    {
     "name": "stdout",
     "output_type": "stream",
     "text": [
      "Interpolation completed: 8760/8760 time steps written.\n",
      "masked_rmse: 1.3333\n",
      "masked_psnr: 33.2287\n",
      "masked_ssim: 0.9331\n",
      "Sample 2: gamma=0.3298006837760648, kappa_star=5.816287170124966\n"
     ]
    },
    {
     "name": "stderr",
     "output_type": "stream",
     "text": [
      "100%|██████████| 365/365 [03:43<00:00,  1.63it/s]\n"
     ]
    },
    {
     "name": "stdout",
     "output_type": "stream",
     "text": [
      "Interpolation completed: 8760/8760 time steps written.\n",
      "masked_rmse: 1.3329\n",
      "masked_psnr: 33.2303\n",
      "masked_ssim: 0.9332\n",
      "Sample 3: gamma=0.1548006837760647, kappa_star=3.8162871701249657\n"
     ]
    },
    {
     "name": "stderr",
     "output_type": "stream",
     "text": [
      "100%|██████████| 365/365 [03:40<00:00,  1.65it/s]\n"
     ]
    },
    {
     "name": "stdout",
     "output_type": "stream",
     "text": [
      "Interpolation completed: 8760/8760 time steps written.\n",
      "masked_rmse: 1.4099\n",
      "masked_psnr: 32.7464\n",
      "masked_ssim: 0.9272\n",
      "Sample 4: gamma=0.1985506837760647, kappa_star=6.316287170124966\n"
     ]
    },
    {
     "name": "stderr",
     "output_type": "stream",
     "text": [
      "100%|██████████| 365/365 [03:42<00:00,  1.64it/s]\n"
     ]
    },
    {
     "name": "stdout",
     "output_type": "stream",
     "text": [
      "Interpolation completed: 8760/8760 time steps written.\n",
      "masked_rmse: 1.3438\n",
      "masked_psnr: 33.1620\n",
      "masked_ssim: 0.9325\n",
      "Sample 5: gamma=0.3735506837760647, kappa_star=4.316287170124966\n"
     ]
    },
    {
     "name": "stderr",
     "output_type": "stream",
     "text": [
      "100%|██████████| 365/365 [03:42<00:00,  1.64it/s]\n"
     ]
    },
    {
     "name": "stdout",
     "output_type": "stream",
     "text": [
      "Interpolation completed: 8760/8760 time steps written.\n",
      "masked_rmse: 1.3337\n",
      "masked_psnr: 33.2260\n",
      "masked_ssim: 0.9331\n",
      "Sample 6: gamma=0.2860506837760648, kappa_star=5.316287170124966\n"
     ]
    },
    {
     "name": "stderr",
     "output_type": "stream",
     "text": [
      "100%|██████████| 365/365 [03:43<00:00,  1.63it/s]\n"
     ]
    },
    {
     "name": "stdout",
     "output_type": "stream",
     "text": [
      "Interpolation completed: 8760/8760 time steps written.\n",
      "masked_rmse: 1.3352\n",
      "masked_psnr: 33.2169\n",
      "masked_ssim: 0.9330\n",
      "Sample 7: gamma=0.1110506837760647, kappa_star=3.3162871701249657\n"
     ]
    },
    {
     "name": "stderr",
     "output_type": "stream",
     "text": [
      "100%|██████████| 365/365 [03:42<00:00,  1.64it/s]\n"
     ]
    },
    {
     "name": "stdout",
     "output_type": "stream",
     "text": [
      "Interpolation completed: 8760/8760 time steps written.\n",
      "masked_rmse: 1.4525\n",
      "masked_psnr: 32.4884\n",
      "masked_ssim: 0.9229\n",
      "Sample 8: gamma=0.1329256837760647, kappa_star=6.066287170124966\n"
     ]
    },
    {
     "name": "stderr",
     "output_type": "stream",
     "text": [
      "100%|██████████| 365/365 [03:45<00:00,  1.62it/s]\n"
     ]
    },
    {
     "name": "stdout",
     "output_type": "stream",
     "text": [
      "Interpolation completed: 8760/8760 time steps written.\n",
      "masked_rmse: 1.3795\n",
      "masked_psnr: 32.9357\n",
      "masked_ssim: 0.9298\n",
      "Sample 9: gamma=0.3079256837760648, kappa_star=4.066287170124966\n"
     ]
    },
    {
     "name": "stderr",
     "output_type": "stream",
     "text": [
      "100%|██████████| 365/365 [03:43<00:00,  1.63it/s]\n"
     ]
    },
    {
     "name": "stdout",
     "output_type": "stream",
     "text": [
      "Interpolation completed: 8760/8760 time steps written.\n",
      "masked_rmse: 1.3439\n",
      "masked_psnr: 33.1614\n",
      "masked_ssim: 0.9324\n",
      "Sample 10: gamma=0.3954256837760648, kappa_star=5.066287170124966\n"
     ]
    },
    {
     "name": "stderr",
     "output_type": "stream",
     "text": [
      "100%|██████████| 365/365 [03:43<00:00,  1.63it/s]\n"
     ]
    },
    {
     "name": "stdout",
     "output_type": "stream",
     "text": [
      "Interpolation completed: 8760/8760 time steps written.\n",
      "masked_rmse: 1.3335\n",
      "masked_psnr: 33.2259\n",
      "masked_ssim: 0.9332\n",
      "Sample 11: gamma=0.2204256837760648, kappa_star=3.0662871701249657\n"
     ]
    },
    {
     "name": "stderr",
     "output_type": "stream",
     "text": [
      "100%|██████████| 365/365 [03:44<00:00,  1.63it/s]\n"
     ]
    },
    {
     "name": "stdout",
     "output_type": "stream",
     "text": [
      "Interpolation completed: 8760/8760 time steps written.\n",
      "masked_rmse: 1.3967\n",
      "masked_psnr: 32.8281\n",
      "masked_ssim: 0.9284\n",
      "Sample 12: gamma=0.1766756837760648, kappa_star=5.566287170124966\n"
     ]
    },
    {
     "name": "stderr",
     "output_type": "stream",
     "text": [
      "100%|██████████| 365/365 [03:44<00:00,  1.62it/s]\n"
     ]
    },
    {
     "name": "stdout",
     "output_type": "stream",
     "text": [
      "Interpolation completed: 8760/8760 time steps written.\n",
      "masked_rmse: 1.3615\n",
      "masked_psnr: 33.0494\n",
      "masked_ssim: 0.9312\n",
      "Sample 13: gamma=0.3516756837760648, kappa_star=3.5662871701249657\n"
     ]
    },
    {
     "name": "stderr",
     "output_type": "stream",
     "text": [
      "100%|██████████| 365/365 [03:45<00:00,  1.62it/s]\n"
     ]
    },
    {
     "name": "stdout",
     "output_type": "stream",
     "text": [
      "Interpolation completed: 8760/8760 time steps written.\n",
      "masked_rmse: 1.3438\n",
      "masked_psnr: 33.1620\n",
      "masked_ssim: 0.9325\n",
      "Sample 14: gamma=0.2641756837760648, kappa_star=6.566287170124966\n"
     ]
    },
    {
     "name": "stderr",
     "output_type": "stream",
     "text": [
      "100%|██████████| 365/365 [03:42<00:00,  1.64it/s]\n"
     ]
    },
    {
     "name": "stdout",
     "output_type": "stream",
     "text": [
      "Interpolation completed: 8760/8760 time steps written.\n",
      "masked_rmse: 1.3327\n",
      "masked_psnr: 33.2321\n",
      "masked_ssim: 0.9332\n",
      "Sample 15: gamma=0.0891756837760647, kappa_star=4.566287170124966\n"
     ]
    },
    {
     "name": "stderr",
     "output_type": "stream",
     "text": [
      "100%|██████████| 365/365 [03:45<00:00,  1.62it/s]\n"
     ]
    },
    {
     "name": "stdout",
     "output_type": "stream",
     "text": [
      "Interpolation completed: 8760/8760 time steps written.\n",
      "masked_rmse: 1.4442\n",
      "masked_psnr: 32.5382\n",
      "masked_ssim: 0.9238\n",
      "Sample 16: gamma=0.1001131837760647, kappa_star=6.691287170124966\n"
     ]
    },
    {
     "name": "stderr",
     "output_type": "stream",
     "text": [
      "100%|██████████| 365/365 [03:46<00:00,  1.61it/s]\n"
     ]
    },
    {
     "name": "stdout",
     "output_type": "stream",
     "text": [
      "Interpolation completed: 8760/8760 time steps written.\n",
      "masked_rmse: 1.3976\n",
      "masked_psnr: 32.8227\n",
      "masked_ssim: 0.9283\n",
      "Sample 17: gamma=0.2751131837760648, kappa_star=4.691287170124966\n"
     ]
    },
    {
     "name": "stderr",
     "output_type": "stream",
     "text": [
      "100%|██████████| 365/365 [03:43<00:00,  1.63it/s]\n"
     ]
    },
    {
     "name": "stdout",
     "output_type": "stream",
     "text": [
      "Interpolation completed: 8760/8760 time steps written.\n",
      "masked_rmse: 1.3422\n",
      "masked_psnr: 33.1724\n",
      "masked_ssim: 0.9326\n",
      "Sample 18: gamma=0.3626131837760648, kappa_star=5.691287170124966\n"
     ]
    },
    {
     "name": "stderr",
     "output_type": "stream",
     "text": [
      "100%|██████████| 365/365 [03:43<00:00,  1.63it/s]\n"
     ]
    },
    {
     "name": "stdout",
     "output_type": "stream",
     "text": [
      "Interpolation completed: 8760/8760 time steps written.\n",
      "masked_rmse: 1.3341\n",
      "masked_psnr: 33.2216\n",
      "masked_ssim: 0.9331\n",
      "Sample 19: gamma=0.1876131837760647, kappa_star=3.6912871701249657\n"
     ]
    },
    {
     "name": "stderr",
     "output_type": "stream",
     "text": [
      "100%|██████████| 365/365 [03:44<00:00,  1.62it/s]\n"
     ]
    },
    {
     "name": "stdout",
     "output_type": "stream",
     "text": [
      "Interpolation completed: 8760/8760 time steps written.\n",
      "masked_rmse: 1.3943\n",
      "masked_psnr: 32.8430\n",
      "masked_ssim: 0.9286\n",
      "Sample 20: gamma=0.2313631837760648, kappa_star=5.191287170124966\n"
     ]
    },
    {
     "name": "stderr",
     "output_type": "stream",
     "text": [
      "100%|██████████| 365/365 [03:42<00:00,  1.64it/s]\n"
     ]
    },
    {
     "name": "stdout",
     "output_type": "stream",
     "text": [
      "Interpolation completed: 8760/8760 time steps written.\n",
      "masked_rmse: 1.3465\n",
      "masked_psnr: 33.1450\n",
      "masked_ssim: 0.9323\n",
      "Sample 21: gamma=0.0563631837760647, kappa_star=3.1912871701249657\n"
     ]
    },
    {
     "name": "stderr",
     "output_type": "stream",
     "text": [
      "100%|██████████| 365/365 [03:42<00:00,  1.64it/s]\n"
     ]
    },
    {
     "name": "stdout",
     "output_type": "stream",
     "text": [
      "Interpolation completed: 8760/8760 time steps written.\n",
      "masked_rmse: 1.4977\n",
      "masked_psnr: 32.2221\n",
      "masked_ssim: 0.9175\n",
      "Sample 22: gamma=0.3188631837760647, kappa_star=6.191287170124966\n"
     ]
    },
    {
     "name": "stderr",
     "output_type": "stream",
     "text": [
      "100%|██████████| 365/365 [03:42<00:00,  1.64it/s]\n"
     ]
    },
    {
     "name": "stdout",
     "output_type": "stream",
     "text": [
      "Interpolation completed: 8760/8760 time steps written.\n",
      "masked_rmse: 1.3333\n",
      "masked_psnr: 33.2276\n",
      "masked_ssim: 0.9332\n",
      "Sample 23: gamma=0.1438631837760647, kappa_star=4.191287170124966\n"
     ]
    },
    {
     "name": "stderr",
     "output_type": "stream",
     "text": [
      "100%|██████████| 365/365 [03:44<00:00,  1.62it/s]\n"
     ]
    },
    {
     "name": "stdout",
     "output_type": "stream",
     "text": [
      "Interpolation completed: 8760/8760 time steps written.\n",
      "masked_rmse: 1.4080\n",
      "masked_psnr: 32.7587\n",
      "masked_ssim: 0.9273\n",
      "Sample 24: gamma=0.1219881837760647, kappa_star=5.441287170124966\n"
     ]
    },
    {
     "name": "stderr",
     "output_type": "stream",
     "text": [
      "100%|██████████| 365/365 [03:43<00:00,  1.63it/s]\n"
     ]
    },
    {
     "name": "stdout",
     "output_type": "stream",
     "text": [
      "Interpolation completed: 8760/8760 time steps written.\n",
      "masked_rmse: 1.3985\n",
      "masked_psnr: 32.8171\n",
      "masked_ssim: 0.9282\n",
      "Sample 25: gamma=0.2969881837760648, kappa_star=3.4412871701249657\n"
     ]
    },
    {
     "name": "stderr",
     "output_type": "stream",
     "text": [
      "100%|██████████| 365/365 [03:42<00:00,  1.64it/s]\n"
     ]
    },
    {
     "name": "stdout",
     "output_type": "stream",
     "text": [
      "Interpolation completed: 8760/8760 time steps written.\n",
      "masked_rmse: 1.3583\n",
      "masked_psnr: 33.0697\n",
      "masked_ssim: 0.9314\n",
      "Sample 26: gamma=0.3844881837760648, kappa_star=6.441287170124966\n"
     ]
    },
    {
     "name": "stderr",
     "output_type": "stream",
     "text": [
      "100%|██████████| 365/365 [03:44<00:00,  1.63it/s]\n"
     ]
    },
    {
     "name": "stdout",
     "output_type": "stream",
     "text": [
      "Interpolation completed: 8760/8760 time steps written.\n",
      "masked_rmse: 1.3414\n",
      "masked_psnr: 33.1730\n",
      "masked_ssim: 0.9328\n",
      "Sample 27: gamma=0.2094881837760647, kappa_star=4.441287170124966\n"
     ]
    },
    {
     "name": "stderr",
     "output_type": "stream",
     "text": [
      "100%|██████████| 365/365 [03:43<00:00,  1.64it/s]\n"
     ]
    },
    {
     "name": "stdout",
     "output_type": "stream",
     "text": [
      "Interpolation completed: 8760/8760 time steps written.\n",
      "masked_rmse: 1.3663\n",
      "masked_psnr: 33.0190\n",
      "masked_ssim: 0.9308\n",
      "Sample 28: gamma=0.1657381837760647, kappa_star=5.941287170124966\n"
     ]
    },
    {
     "name": "stderr",
     "output_type": "stream",
     "text": [
      "100%|██████████| 365/365 [03:43<00:00,  1.63it/s]\n"
     ]
    },
    {
     "name": "stdout",
     "output_type": "stream",
     "text": [
      "Interpolation completed: 8760/8760 time steps written.\n",
      "masked_rmse: 1.3614\n",
      "masked_psnr: 33.0501\n",
      "masked_ssim: 0.9312\n",
      "Sample 29: gamma=0.3407381837760648, kappa_star=3.9412871701249657\n"
     ]
    },
    {
     "name": "stderr",
     "output_type": "stream",
     "text": [
      "100%|██████████| 365/365 [03:44<00:00,  1.62it/s]\n"
     ]
    },
    {
     "name": "stdout",
     "output_type": "stream",
     "text": [
      "Interpolation completed: 8760/8760 time steps written.\n",
      "masked_rmse: 1.3401\n",
      "masked_psnr: 33.1855\n",
      "masked_ssim: 0.9327\n",
      "Sample 30: gamma=0.2532381837760648, kappa_star=4.941287170124966\n"
     ]
    },
    {
     "name": "stderr",
     "output_type": "stream",
     "text": [
      "100%|██████████| 365/365 [03:46<00:00,  1.61it/s]\n"
     ]
    },
    {
     "name": "stdout",
     "output_type": "stream",
     "text": [
      "Interpolation completed: 8760/8760 time steps written.\n",
      "masked_rmse: 1.3440\n",
      "masked_psnr: 33.1611\n",
      "masked_ssim: 0.9324\n",
      "Sample 31: gamma=0.0782381837760647, kappa_star=6.941287170124966\n"
     ]
    },
    {
     "name": "stderr",
     "output_type": "stream",
     "text": [
      "100%|██████████| 365/365 [03:43<00:00,  1.63it/s]\n"
     ]
    },
    {
     "name": "stdout",
     "output_type": "stream",
     "text": [
      "Interpolation completed: 8760/8760 time steps written.\n",
      "masked_rmse: 1.4181\n",
      "masked_psnr: 32.6965\n",
      "masked_ssim: 0.9264\n"
     ]
    }
   ],
   "source": [
    "scores = []\n",
    "for idx, row in df.iloc[:32].iterrows():\n",
    "    gamma = row['gamma']\n",
    "    kappa_star = row['kappa_star']\n",
    "    print(f\"Sample {idx}: gamma={gamma}, kappa_star={kappa_star}\")\n",
    "    \n",
    "    # Initialize a Zarr store, for each combinations of gamma and kappa_star\n",
    "    target_zarr_store = f'data/Barnes_interpolated/parameter_combinations/gamma-kappa-{idx}.zarr'\n",
    "    os.makedirs(os.path.dirname(target_zarr_store), exist_ok=True)\n",
    "    init_zarr_store(target_zarr_store, dates, var_name)\n",
    "\n",
    "    chunk_size = 24\n",
    "    n_jobs = 60  # 2 threads per chunk, parallel across 60 chunks\n",
    "    ds = xr.open_zarr(source_zarr_store, chunks={'time': chunk_size})[var_name].sel(time=dates)\n",
    "\n",
    "    # Open Zarr for writing\n",
    "    zarr_write = zarr.open(target_zarr_store, mode='a')\n",
    "    zarr_variable = zarr_write[var_name]\n",
    "\n",
    "    # Interpolation function\n",
    "    def interpolate_and_write_block(start_idx):\n",
    "        success = 0\n",
    "        end_idx = min(start_idx + chunk_size, len(ds.time))\n",
    "        for t_idx in range(start_idx, end_idx):\n",
    "            try:\n",
    "                sample = ds.isel(time=t_idx)\n",
    "                station_values = sample.values[y_indices, x_indices]\n",
    "                interp_flat = interpolate_to_points(\n",
    "                    nysm_latlon, station_values, grid_points, interp_type='barnes',\n",
    "                    gamma=gamma, kappa_star=kappa_star\n",
    "                )\n",
    "                interp = interp_flat.reshape(RTMA_lat.shape).astype(np.float32)\n",
    "                zarr_variable[t_idx, :, :] = interp\n",
    "                success += 1\n",
    "            except Exception as e:\n",
    "                print(f\"Time index {t_idx} failed: {e}\")\n",
    "        return success\n",
    "\n",
    "    # Parallel execution\n",
    "    from tqdm import tqdm\n",
    "    chunk_starts = list(range(0, len(ds.time), chunk_size))\n",
    "    results = Parallel(n_jobs=n_jobs)(\n",
    "        delayed(interpolate_and_write_block)(i) for i in tqdm(chunk_starts)\n",
    "    )\n",
    "\n",
    "    # Optional: print summary\n",
    "    total_success = sum(results)\n",
    "    print(f\"Interpolation completed: {total_success}/{len(ds.time)} time steps written.\")\n",
    "\n",
    "    # === Compute the metrics in comparison to the RTMA target data ===\n",
    "    # the assumption/known thing is that there are no missing instances.\n",
    "    target_ds = xr.open_zarr(source_zarr_store)[var_name].sel(time=slice(*test_dates_range))\n",
    "    target_ds = target_ds.drop_sel(time=missing_times)\n",
    "\n",
    "    interp_ds = xr.open_zarr(target_zarr_store)[var_name].sel(time=slice(*test_dates_range))\n",
    "    interp_ds = interp_ds.drop_sel(time=missing_times)\n",
    "\n",
    "    # Convert [T, H, W] -> [B, 1, H, W]\n",
    "    target_tensor = torch.tensor(target_ds.values, dtype=torch.float32).unsqueeze(1)\n",
    "    interp_tensor = torch.tensor(interp_ds.values, dtype=torch.float32).unsqueeze(1)\n",
    "    interp_tensor = interp_tensor.where(~torch.isnan(interp_tensor), 0.0)  # Replace NaNs with 0.0\n",
    "    station_mask_tensor = torch.tensor(station_mask, dtype=torch.float32).unsqueeze(0).unsqueeze(0).expand(len(target_tensor), -1, -1, -1)  # [8760, 1, H, W]\n",
    "\n",
    "    #print('nan_indices:',nan_indices)\n",
    "    for key in metrics.keys():\n",
    "        metric_value = metrics[key](interp_tensor, target_tensor, station_mask_tensor).item()\n",
    "        print(f'{key}: {metric_value:.4f}')\n",
    "\n",
    "        # Save the results\n",
    "        scores.append({\n",
    "                \"idx\": idx,\n",
    "                \"gamma\": gamma,\n",
    "                \"kappa_star\": kappa_star,\n",
    "                \"Metric\": key,\n",
    "                \"Value\": metric_value\n",
    "            })\n",
    "\n",
    "# Convert results to DataFrame\n",
    "scores_df = pd.DataFrame(scores)\n",
    "# Save the results to a CSV file\n",
    "scores_df.to_csv('Barnes_parameter_search.csv', index=False)"
   ]
  },
  {
   "cell_type": "code",
   "execution_count": 13,
   "id": "bc9ef155",
   "metadata": {},
   "outputs": [
    {
     "name": "stdout",
     "output_type": "stream",
     "text": [
      "Best RMSE at idx: 14\n",
      "Best PSNR at idx: 14\n",
      "Best SSIM at idx: 2\n",
      "❌ No single idx optimizes all three metrics.\n"
     ]
    }
   ],
   "source": [
    "# Ensure the metric names are correct and consistent in your dataframe\n",
    "rmse_df = scores_df[scores_df['Metric'] == 'masked_rmse']\n",
    "psnr_df = scores_df[scores_df['Metric'] == 'masked_psnr']\n",
    "ssim_df = scores_df[scores_df['Metric'] == 'masked_ssim']\n",
    "\n",
    "# Get the idx for each best condition\n",
    "best_rmse_idx = rmse_df.loc[rmse_df['Value'].idxmin(), 'idx']\n",
    "best_psnr_idx = psnr_df.loc[psnr_df['Value'].idxmax(), 'idx']\n",
    "best_ssim_idx = ssim_df.loc[ssim_df['Value'].idxmax(), 'idx']\n",
    "\n",
    "print(\"Best RMSE at idx:\", best_rmse_idx)\n",
    "print(\"Best PSNR at idx:\", best_psnr_idx)\n",
    "print(\"Best SSIM at idx:\", best_ssim_idx)\n",
    "\n",
    "# Find if there's a common idx that satisfies all three (optional)\n",
    "best_common = set([best_rmse_idx, best_psnr_idx, best_ssim_idx])\n",
    "if len(best_common) == 1:\n",
    "    print(\"✅ Common best idx:\", best_common.pop())\n",
    "else:\n",
    "    print(\"❌ No single idx optimizes all three metrics.\")\n"
   ]
  },
  {
   "cell_type": "code",
   "execution_count": 25,
   "id": "4efc25c4",
   "metadata": {},
   "outputs": [
    {
     "data": {
      "text/plain": [
       "(    idx     gamma  kappa_star       Metric      Value\n",
       " 42   14  0.264176    6.566287  masked_rmse   1.332732\n",
       " 43   14  0.264176    6.566287  masked_psnr  33.232075\n",
       " 44   14  0.264176    6.566287  masked_ssim   0.933182,\n",
       "    idx     gamma  kappa_star       Metric      Value\n",
       " 6    2  0.329801    5.816287  masked_rmse   1.332879\n",
       " 7    2  0.329801    5.816287  masked_psnr  33.230316\n",
       " 8    2  0.329801    5.816287  masked_ssim   0.933195)"
      ]
     },
     "execution_count": 25,
     "metadata": {},
     "output_type": "execute_result"
    }
   ],
   "source": [
    "scores_df[scores_df['idx'] == 14], scores_df[scores_df['idx'] == 2]"
   ]
  },
  {
   "cell_type": "markdown",
   "id": "1b991156",
   "metadata": {},
   "source": [
    "- To me, the values at 14 and 2 are very close. Since RMSE and PSNR are both optimum at 14, we chose the parameter values of this idx."
   ]
  },
  {
   "cell_type": "code",
   "execution_count": 47,
   "id": "9e3a6081",
   "metadata": {},
   "outputs": [
    {
     "data": {
      "image/png": "[encoded data removed]",
      "text/plain": [
       "<Figure size 1400x400 with 6 Axes>"
      ]
     },
     "metadata": {},
     "output_type": "display_data"
    }
   ],
   "source": [
    "import matplotlib.pyplot as plt\n",
    "\n",
    "# Group by each metric and plot\n",
    "metrics = scores_df['Metric'].unique()\n",
    "\n",
    "# Create a 1x3 subplot\n",
    "fig, axes = plt.subplots(1, 3, figsize=(14, 4), sharey=True)\n",
    "fontsize = 14\n",
    "for i, metric in enumerate(metrics):\n",
    "    df_metric = scores_df[scores_df['Metric'] == metric]\n",
    "\n",
    "    ax = axes[i]\n",
    "\n",
    "    # Mark the 14th idx\n",
    "    point_14 = df_metric[df_metric['idx'] == 14]\n",
    "    if not point_14.empty:\n",
    "        ax.scatter(\n",
    "            point_14['gamma'], point_14['kappa_star'],\n",
    "            color='red', marker='*', s=500, label='idx=14'\n",
    "        )\n",
    "\n",
    "    scatter = ax.scatter(\n",
    "        df_metric['gamma'], df_metric['kappa_star'],\n",
    "        c=df_metric['Value'], cmap='tab20c', s=100, edgecolors='k'\n",
    "    )\n",
    "    # Add colorbar for each subplot\n",
    "    cbar = plt.colorbar(scatter, ax=ax)\n",
    "    cbar.set_label('Value', fontsize=fontsize)\n",
    "    cbar.ax.tick_params(labelsize=fontsize)\n",
    "\n",
    "    ax.set_title(f'{metric}')\n",
    "    ax.set_xlabel('Gamma')\n",
    "    if i == 0:\n",
    "        ax.set_ylabel('Kappa Star')\n",
    "    ax.grid(True)\n",
    "\n",
    "    ax.set_title(metric, fontsize=fontsize)\n",
    "    ax.set_xlabel('Gamma', fontsize=fontsize)\n",
    "    if i == 0:\n",
    "        ax.set_ylabel('Kappa Star', fontsize=fontsize)\n",
    "\n",
    "    ax.tick_params(axis='both', labelsize=fontsize)\n",
    "\n",
    "fig.tight_layout()\n",
    "\n",
    "plt.savefig(f'Figures/Barnes_parameter_search.pdf',dpi=300,bbox_inches='tight')\n"
   ]
  },
  {
   "cell_type": "code",
   "execution_count": null,
   "id": "2b08d3ec",
   "metadata": {},
   "outputs": [],
   "source": []
  }
 ],
 "metadata": {
  "kernelspec": {
   "display_name": "Python 3",
   "language": "python",
   "name": "python3"
  },
  "language_info": {
   "codemirror_mode": {
    "name": "ipython",
    "version": 3
   },
   "file_extension": ".py",
   "mimetype": "text/x-python",
   "name": "python",
   "nbconvert_exporter": "python",
   "pygments_lexer": "ipython3",
   "version": "3.12.3"
  }
 },
 "nbformat": 4,
 "nbformat_minor": 5
}
