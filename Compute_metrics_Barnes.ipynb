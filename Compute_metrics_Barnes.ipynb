{
 "cells": [
  {
   "cell_type": "code",
   "execution_count": 1,
   "id": "247529e6",
   "metadata": {},
   "outputs": [
    {
     "name": "stdout",
     "output_type": "stream",
     "text": [
      "Current time is: 2025-05-18 04:09:43\n"
     ]
    }
   ],
   "source": [
    "import time\n",
    "print(\"Current time is:\", time.strftime(\"%Y-%m-%d %H:%M:%S\", time.localtime()))"
   ]
  },
  {
   "cell_type": "code",
   "execution_count": 2,
   "id": "8799e285",
   "metadata": {},
   "outputs": [],
   "source": [
    "import torch \n",
    "\n",
    "import numpy as np\n",
    "import pandas as pd\n",
    "import xarray as xr\n",
    "import dask\n",
    "import os, sys\n",
    "import glob\n",
    "import zarr\n",
    "from joblib import Parallel, delayed\n",
    "import os\n",
    "import dask.array as da\n",
    "from scipy.spatial import cKDTree\n",
    "\n",
    "import matplotlib\n",
    "import matplotlib.pyplot as plt\n",
    "import seaborn as sns\n",
    "from matplotlib.colors import Normalize\n",
    "from matplotlib.colors import TwoSlopeNorm\n",
    "\n",
    "from joblib import Parallel, delayed\n",
    "from tqdm import tqdm\n",
    "\n",
    "from data_loader import RTMA_sparse_to_dense_Dataset, Transform\n",
    "from losses import MaskedMSELoss, MaskedRMSELoss, MaskedTVLoss, MaskedCharbonnierLoss, MaskedPSNR, MaskedSSIM\n",
    "\n",
    "FIG_DIR = 'Figures'\n",
    "if not os.path.exists(FIG_DIR):\n",
    "    os.makedirs(FIG_DIR)"
   ]
  },
  {
   "cell_type": "code",
   "execution_count": 3,
   "id": "ea0f7aba",
   "metadata": {},
   "outputs": [
    {
     "name": "stdout",
     "output_type": "stream",
     "text": [
      "False\n"
     ]
    }
   ],
   "source": [
    "print(torch.cuda.is_available())"
   ]
  },
  {
   "cell_type": "code",
   "execution_count": 4,
   "id": "ac5795db",
   "metadata": {},
   "outputs": [],
   "source": [
    "from matplotlib.colors import ListedColormap\n",
    "turbo_colormap_data = [[0.18995,0.07176,0.23217],[0.19483,0.08339,0.26149],[0.19956,0.09498,0.29024],[0.20415,0.10652,0.31844],\n",
    "                       [0.20860,0.11802,0.34607],[0.21291,0.12947,0.37314],[0.21708,0.14087,0.39964],[0.22111,0.15223,0.42558],\n",
    "                       [0.22500,0.16354,0.45096],[0.22875,0.17481,0.47578],[0.23236,0.18603,0.50004],[0.23582,0.19720,0.52373],\n",
    "                       [0.23915,0.20833,0.54686],[0.24234,0.21941,0.56942],[0.24539,0.23044,0.59142],[0.24830,0.24143,0.61286],\n",
    "                       [0.25107,0.25237,0.63374],[0.25369,0.26327,0.65406],[0.25618,0.27412,0.67381],[0.25853,0.28492,0.69300],\n",
    "                       [0.26074,0.29568,0.71162],[0.26280,0.30639,0.72968],[0.26473,0.31706,0.74718],[0.26652,0.32768,0.76412],\n",
    "                       [0.26816,0.33825,0.78050],[0.26967,0.34878,0.79631],[0.27103,0.35926,0.81156],[0.27226,0.36970,0.82624],\n",
    "                       [0.27334,0.38008,0.84037],[0.27429,0.39043,0.85393],[0.27509,0.40072,0.86692],[0.27576,0.41097,0.87936],\n",
    "                       [0.27628,0.42118,0.89123],[0.27667,0.43134,0.90254],[0.27691,0.44145,0.91328],[0.27701,0.45152,0.92347],\n",
    "                       [0.27698,0.46153,0.93309],[0.27680,0.47151,0.94214],[0.27648,0.48144,0.95064],[0.27603,0.49132,0.95857],\n",
    "                       [0.27543,0.50115,0.96594],[0.27469,0.51094,0.97275],[0.27381,0.52069,0.97899],[0.27273,0.53040,0.98461],\n",
    "                       [0.27106,0.54015,0.98930],[0.26878,0.54995,0.99303],[0.26592,0.55979,0.99583],[0.26252,0.56967,0.99773],\n",
    "                       [0.25862,0.57958,0.99876],[0.25425,0.58950,0.99896],[0.24946,0.59943,0.99835],[0.24427,0.60937,0.99697],\n",
    "                       [0.23874,0.61931,0.99485],[0.23288,0.62923,0.99202],[0.22676,0.63913,0.98851],[0.22039,0.64901,0.98436],\n",
    "                       [0.21382,0.65886,0.97959],[0.20708,0.66866,0.97423],[0.20021,0.67842,0.96833],[0.19326,0.68812,0.96190],\n",
    "                       [0.18625,0.69775,0.95498],[0.17923,0.70732,0.94761],[0.17223,0.71680,0.93981],[0.16529,0.72620,0.93161],\n",
    "                       [0.15844,0.73551,0.92305],[0.15173,0.74472,0.91416],[0.14519,0.75381,0.90496],[0.13886,0.76279,0.89550],\n",
    "                       [0.13278,0.77165,0.88580],[0.12698,0.78037,0.87590],[0.12151,0.78896,0.86581],[0.11639,0.79740,0.85559],\n",
    "                       [0.11167,0.80569,0.84525],[0.10738,0.81381,0.83484],[0.10357,0.82177,0.82437],[0.10026,0.82955,0.81389],\n",
    "                       [0.09750,0.83714,0.80342],[0.09532,0.84455,0.79299],[0.09377,0.85175,0.78264],[0.09287,0.85875,0.77240],\n",
    "                       [0.09267,0.86554,0.76230],[0.09320,0.87211,0.75237],[0.09451,0.87844,0.74265],[0.09662,0.88454,0.73316],\n",
    "                       [0.09958,0.89040,0.72393],[0.10342,0.89600,0.71500],[0.10815,0.90142,0.70599],[0.11374,0.90673,0.69651],\n",
    "                       [0.12014,0.91193,0.68660],[0.12733,0.91701,0.67627],[0.13526,0.92197,0.66556],[0.14391,0.92680,0.65448],\n",
    "                       [0.15323,0.93151,0.64308],[0.16319,0.93609,0.63137],[0.17377,0.94053,0.61938],[0.18491,0.94484,0.60713],\n",
    "                       [0.19659,0.94901,0.59466],[0.20877,0.95304,0.58199],[0.22142,0.95692,0.56914],[0.23449,0.96065,0.55614],\n",
    "                       [0.24797,0.96423,0.54303],[0.26180,0.96765,0.52981],[0.27597,0.97092,0.51653],[0.29042,0.97403,0.50321],\n",
    "                       [0.30513,0.97697,0.48987],[0.32006,0.97974,0.47654],[0.33517,0.98234,0.46325],[0.35043,0.98477,0.45002],\n",
    "                       [0.36581,0.98702,0.43688],[0.38127,0.98909,0.42386],[0.39678,0.99098,0.41098],[0.41229,0.99268,0.39826],\n",
    "                       [0.42778,0.99419,0.38575],[0.44321,0.99551,0.37345],[0.45854,0.99663,0.36140],[0.47375,0.99755,0.34963],\n",
    "                       [0.48879,0.99828,0.33816],[0.50362,0.99879,0.32701],[0.51822,0.99910,0.31622],[0.53255,0.99919,0.30581],\n",
    "                       [0.54658,0.99907,0.29581],[0.56026,0.99873,0.28623],[0.57357,0.99817,0.27712],[0.58646,0.99739,0.26849],\n",
    "                       [0.59891,0.99638,0.26038],[0.61088,0.99514,0.25280],[0.62233,0.99366,0.24579],[0.63323,0.99195,0.23937],\n",
    "                       [0.64362,0.98999,0.23356],[0.65394,0.98775,0.22835],[0.66428,0.98524,0.22370],[0.67462,0.98246,0.21960],\n",
    "                       [0.68494,0.97941,0.21602],[0.69525,0.97610,0.21294],[0.70553,0.97255,0.21032],[0.71577,0.96875,0.20815],\n",
    "                       [0.72596,0.96470,0.20640],[0.73610,0.96043,0.20504],[0.74617,0.95593,0.20406],[0.75617,0.95121,0.20343],\n",
    "                       [0.76608,0.94627,0.20311],[0.77591,0.94113,0.20310],[0.78563,0.93579,0.20336],[0.79524,0.93025,0.20386],\n",
    "                       [0.80473,0.92452,0.20459],[0.81410,0.91861,0.20552],[0.82333,0.91253,0.20663],[0.83241,0.90627,0.20788],\n",
    "                       [0.84133,0.89986,0.20926],[0.85010,0.89328,0.21074],[0.85868,0.88655,0.21230],[0.86709,0.87968,0.21391],\n",
    "                       [0.87530,0.87267,0.21555],[0.88331,0.86553,0.21719],[0.89112,0.85826,0.21880],[0.89870,0.85087,0.22038],\n",
    "                       [0.90605,0.84337,0.22188],[0.91317,0.83576,0.22328],[0.92004,0.82806,0.22456],[0.92666,0.82025,0.22570],\n",
    "                       [0.93301,0.81236,0.22667],[0.93909,0.80439,0.22744],[0.94489,0.79634,0.22800],[0.95039,0.78823,0.22831],\n",
    "                       [0.95560,0.78005,0.22836],[0.96049,0.77181,0.22811],[0.96507,0.76352,0.22754],[0.96931,0.75519,0.22663],\n",
    "                       [0.97323,0.74682,0.22536],[0.97679,0.73842,0.22369],[0.98000,0.73000,0.22161],[0.98289,0.72140,0.21918],\n",
    "                       [0.98549,0.71250,0.21650],[0.98781,0.70330,0.21358],[0.98986,0.69382,0.21043],[0.99163,0.68408,0.20706],\n",
    "                       [0.99314,0.67408,0.20348],[0.99438,0.66386,0.19971],[0.99535,0.65341,0.19577],[0.99607,0.64277,0.19165],\n",
    "                       [0.99654,0.63193,0.18738],[0.99675,0.62093,0.18297],[0.99672,0.60977,0.17842],[0.99644,0.59846,0.17376],\n",
    "                       [0.99593,0.58703,0.16899],[0.99517,0.57549,0.16412],[0.99419,0.56386,0.15918],[0.99297,0.55214,0.15417],\n",
    "                       [0.99153,0.54036,0.14910],[0.98987,0.52854,0.14398],[0.98799,0.51667,0.13883],[0.98590,0.50479,0.13367],\n",
    "                       [0.98360,0.49291,0.12849],[0.98108,0.48104,0.12332],[0.97837,0.46920,0.11817],[0.97545,0.45740,0.11305],\n",
    "                       [0.97234,0.44565,0.10797],[0.96904,0.43399,0.10294],[0.96555,0.42241,0.09798],[0.96187,0.41093,0.09310],\n",
    "                       [0.95801,0.39958,0.08831],[0.95398,0.38836,0.08362],[0.94977,0.37729,0.07905],[0.94538,0.36638,0.07461],\n",
    "                       [0.94084,0.35566,0.07031],[0.93612,0.34513,0.06616],[0.93125,0.33482,0.06218],[0.92623,0.32473,0.05837],\n",
    "                       [0.92105,0.31489,0.05475],[0.91572,0.30530,0.05134],[0.91024,0.29599,0.04814],[0.90463,0.28696,0.04516],\n",
    "                       [0.89888,0.27824,0.04243],[0.89298,0.26981,0.03993],[0.88691,0.26152,0.03753],[0.88066,0.25334,0.03521],\n",
    "                       [0.87422,0.24526,0.03297],[0.86760,0.23730,0.03082],[0.86079,0.22945,0.02875],[0.85380,0.22170,0.02677],\n",
    "                       [0.84662,0.21407,0.02487],[0.83926,0.20654,0.02305],[0.83172,0.19912,0.02131],[0.82399,0.19182,0.01966],\n",
    "                       [0.81608,0.18462,0.01809],[0.80799,0.17753,0.01660],[0.79971,0.17055,0.01520],[0.79125,0.16368,0.01387],\n",
    "                       [0.78260,0.15693,0.01264],[0.77377,0.15028,0.01148],[0.76476,0.14374,0.01041],[0.75556,0.13731,0.00942],\n",
    "                       [0.74617,0.13098,0.00851],[0.73661,0.12477,0.00769],[0.72686,0.11867,0.00695],[0.71692,0.11268,0.00629],\n",
    "                       [0.70680,0.10680,0.00571],[0.69650,0.10102,0.00522],[0.68602,0.09536,0.00481],[0.67535,0.08980,0.00449],\n",
    "                       [0.66449,0.08436,0.00424],[0.65345,0.07902,0.00408],[0.64223,0.07380,0.00401],[0.63082,0.06868,0.00401],\n",
    "                       [0.61923,0.06367,0.00410],[0.60746,0.05878,0.00427],[0.59550,0.05399,0.00453],[0.58336,0.04931,0.00486],\n",
    "                       [0.57103,0.04474,0.00529],[0.55852,0.04028,0.00579],[0.54583,0.03593,0.00638],[0.53295,0.03169,0.00705],\n",
    "                       [0.51989,0.02756,0.00780],[0.50664,0.02354,0.00863],[0.49321,0.01963,0.00955],[0.47960,0.01583,0.01055]]\n",
    "turbo_cmap = ListedColormap(turbo_colormap_data, name=\"turbo\")"
   ]
  },
  {
   "cell_type": "markdown",
   "id": "3d7243cf",
   "metadata": {},
   "source": [
    "- The output on test data are already computed and saved into zarrs, while training. \n",
    "- I could call the saved trained models and compute the output, but that needs additional effort, since conversion of inputs is always expensive.\n",
    "- The idea is not to load the all inputs, except for the orography, mask, and station points (staiton_mask)."
   ]
  },
  {
   "cell_type": "code",
   "execution_count": 5,
   "id": "5951c4f5",
   "metadata": {},
   "outputs": [],
   "source": [
    "# === Loading some topography and masking data ===\n",
    "orography = xr.open_dataset('orography.nc').orog\n",
    "RTMA_lat = orography.latitude.values    # Nx, Ny 2D arrays\n",
    "RTMA_lon = orography.longitude.values   # Nx, Ny 2D arrays\n",
    "orography = orography.values\n",
    "\n",
    "mask = xr.open_dataset('mask_2d.nc').mask\n",
    "mask_tensor = torch.tensor(mask.values.astype(np.float32))\n",
    "\n",
    "# Initiate the metrics\n",
    "metrics = {\n",
    "    'masked_rmse': MaskedRMSELoss(mask_tensor), \n",
    "    'masked_psnr': MaskedPSNR(mask_tensor),\n",
    "    'masked_ssim': MaskedSSIM(mask_tensor),\n",
    "}\n",
    "\n",
    "# Load NYSM station data\n",
    "nysm = pd.read_csv('nysm.csv')\n",
    "# NYSM station lat/lon\n",
    "nysm_latlon = np.stack([\n",
    "    nysm['lat [degrees]'].values,\n",
    "    (nysm['lon [degrees]'].values + 360) % 360\n",
    "], axis=-1) # shape: (N, 2)\n",
    "\n",
    "# Precompute grid KDTree\n",
    "grid_points = np.stack([RTMA_lat.ravel(), RTMA_lon.ravel()], axis=-1)\n",
    "tree = cKDTree(grid_points)\n",
    "# Query the station locations\n",
    "_, indices_flat = tree.query(nysm_latlon)\n",
    "# Convert flat indices to 2D (y, x)\n",
    "y_indices, x_indices = np.unravel_index(indices_flat, orography.shape)\n",
    "\n",
    "station_mask = np.zeros_like(RTMA_lat, dtype=np.uint8)\n",
    "station_mask[y_indices, x_indices] = 1  # Set 1 at the station locations\n",
    "\n",
    "ref_zarr_store = 'data/RTMA.zarr'\n",
    "test_dates_range = ['2023-01-01T00','2023-12-31T23']"
   ]
  },
  {
   "cell_type": "markdown",
   "id": "34421bc5",
   "metadata": {},
   "source": [
    "# Metrics for Barnes interpolated RTMA and NYSM data\n",
    "- Surprisingly, the Barnes interpolation with the current parameter setting leaves sone nan values in the Long Island.\n",
    "- The reson can be, due to limited stations available during those time instances. "
   ]
  },
  {
   "cell_type": "markdown",
   "id": "a26e8b4b",
   "metadata": {},
   "source": [
    "## Checking the nans within NYS,due to Barnes interpolation"
   ]
  },
  {
   "cell_type": "code",
   "execution_count": 5,
   "id": "525a50fa",
   "metadata": {},
   "outputs": [
    {
     "name": "stdout",
     "output_type": "stream",
     "text": [
      "i10fg missing instances in target ds: []\n",
      "i10fg RTMA all-stations missing instances in test ds: []\n",
      "i10fg RTMA 50-random-stations missing instances in test ds: []\n",
      "i10fg RTMA 75-random-stations missing instances in test ds: []\n",
      "i10fg RTMA 100-random-stations missing instances in test ds: []\n",
      "i10fg NYSM all-stations missing instances in test ds: []\n",
      "i10fg NYSM 50-random-stations missing instances in test ds: []\n",
      "i10fg NYSM 75-random-stations missing instances in test ds: []\n",
      "i10fg NYSM 100-random-stations missing instances in test ds: []\n",
      "si10 missing instances in target ds: ['2023-01-17T16:00:00.000000000']\n",
      "si10 RTMA all-stations missing instances in test ds: ['2023-01-17T16:00:00.000000000']\n",
      "si10 NYSM all-stations missing instances in test ds: []\n",
      "t2m missing instances in target ds: []\n",
      "t2m RTMA all-stations missing instances in test ds: []\n",
      "t2m NYSM all-stations missing instances in test ds: ['2023-11-13T17:00:00.000000000' '2023-11-13T18:00:00.000000000'\n",
      " '2023-11-13T19:00:00.000000000']\n",
      "sh2 missing instances in target ds: []\n",
      "sh2 RTMA all-stations missing instances in test ds: []\n",
      "sh2 NYSM all-stations missing instances in test ds: ['2023-04-18T14:00:00.000000000' '2023-04-18T15:00:00.000000000'\n",
      " '2023-04-18T17:00:00.000000000' '2023-11-13T17:00:00.000000000'\n",
      " '2023-11-13T18:00:00.000000000' '2023-11-13T19:00:00.000000000']\n"
     ]
    }
   ],
   "source": [
    "stations_seed = 42\n",
    "random_stations = ['all-stations','50-random-stations','75-random-stations','100-random-stations']\n",
    "for var in ['i10fg','si10','t2m','sh2']:\n",
    "    target_ds = xr.open_zarr(ref_zarr_store)[var].sel(time=slice(*test_dates_range))\n",
    "    target_missing_instances = target_ds.time.where(target_ds.where(mask,0).isnull().any(dim=['y','x'])).dropna(dim='time')\n",
    "    print(var, 'missing instances in target ds:', target_missing_instances.values)\n",
    "    for data_type in ['RTMA','NYSM']:\n",
    "        if var == 'i10fg':\n",
    "            for i in range(len(random_stations)):\n",
    "                test_zarr_store = f'data/Barnes_interpolated/{stations_seed}/{random_stations[i]}/{data_type}_test.zarr'\n",
    "                test_ds = xr.open_zarr(test_zarr_store)[var].sel(time=slice(*test_dates_range))\n",
    "                test_missing_instances = test_ds.time.where(test_ds.where(mask,0).isnull().any(dim=['y','x'])).dropna(dim='time')\n",
    "                print(var, data_type, random_stations[i], 'missing instances in test ds:', test_missing_instances.values)\n",
    "        else:\n",
    "            i=0\n",
    "            test_zarr_store = f'data/Barnes_interpolated/{stations_seed}/{random_stations[i]}/{data_type}_test.zarr'\n",
    "            target_ds = xr.open_zarr(ref_zarr_store)[var].sel(time=slice(*test_dates_range))\n",
    "            test_ds = xr.open_zarr(test_zarr_store)[var].sel(time=slice(*test_dates_range))\n",
    "            test_missing_instances = test_ds.time.where(test_ds.where(mask,0).isnull().any(dim=['y','x'])).dropna(dim='time')\n",
    "            print(var, data_type, random_stations[i], 'missing instances in test ds:', test_missing_instances.values)"
   ]
  },
  {
   "cell_type": "markdown",
   "id": "decb04c8",
   "metadata": {},
   "source": [
    "- All the values are missing at '2023-01-17T16:00:00.000000000', for si10. \n",
    "- If we don't exclude this while computing the overall stats, it will give nan for PSNR."
   ]
  },
  {
   "cell_type": "code",
   "execution_count": 6,
   "id": "a4ef1462",
   "metadata": {},
   "outputs": [
    {
     "data": {
      "text/plain": [
       "<matplotlib.collections.QuadMesh at 0x756e1b726780>"
      ]
     },
     "execution_count": 6,
     "metadata": {},
     "output_type": "execute_result"
    },
    {
     "data": {
      "image/png": "[encoded data removed]",
      "text/plain": [
       "<Figure size 640x480 with 2 Axes>"
      ]
     },
     "metadata": {},
     "output_type": "display_data"
    }
   ],
   "source": [
    "var = 't2m'\n",
    "i = 0\n",
    "data_type = 'NYSM'\n",
    "test_zarr_store = f'data/Barnes_interpolated/{stations_seed}/{random_stations[i]}/{data_type}_test.zarr'\n",
    "target_ds = xr.open_zarr(ref_zarr_store)[var].sel(time=slice(*test_dates_range))\n",
    "test_ds = xr.open_zarr(test_zarr_store)[var].sel(time=slice(*test_dates_range))\n",
    "test_ds.where(mask,0).sel(time='2023-11-13T17:00:00.000000000').plot()"
   ]
  },
  {
   "cell_type": "markdown",
   "id": "aaf5d453",
   "metadata": {},
   "source": [
    "- You see, very small portion in the Long Island have nans due to Barnes interpolation."
   ]
  },
  {
   "cell_type": "code",
   "execution_count": 7,
   "id": "a153f880",
   "metadata": {},
   "outputs": [
    {
     "name": "stdout",
     "output_type": "stream",
     "text": [
      "torch.Size([3, 1, 256, 288]) torch.Size([3, 1, 256, 288]) torch.Size([3, 1, 256, 288])\n",
      "masked_rmse: 1.0146\n",
      "masked_psnr: 53.9727\n",
      "masked_ssim: 0.9992\n"
     ]
    }
   ],
   "source": [
    "target_tensor = torch.tensor(target_ds.sel(time=['2023-11-13T17:00:00.000000000','2023-11-13T18:00:00.000000000','2023-11-13T19:00:00.000000000']).values, dtype=torch.float32).unsqueeze(1)\n",
    "test_tensor = torch.tensor(test_ds.sel(time=['2023-11-13T17:00:00.000000000','2023-11-13T18:00:00.000000000','2023-11-13T19:00:00.000000000']).values, dtype=torch.float32).unsqueeze(1)\n",
    "nan_mask = torch.isnan(target_tensor) | torch.isnan(test_tensor)\n",
    "target_tensor = target_tensor.masked_fill(nan_mask, 0.0)\n",
    "test_tensor = test_tensor.masked_fill(nan_mask, 0.0)  # Replace any NaNs with 0.0, else you will get NaNs.\n",
    "station_mask_tensor = torch.tensor(station_mask, dtype=torch.float32).unsqueeze(0).unsqueeze(0).expand(len(target_tensor), -1, -1, -1)  # [8760, 1, H, W]\n",
    "\n",
    "print(target_tensor.shape, test_tensor.shape, station_mask_tensor.shape)\n",
    "for key in metrics.keys():\n",
    "    metric_value = metrics[key](test_tensor, target_tensor, station_mask_tensor).item()\n",
    "    print(f'{key}: {metric_value:.4f}')"
   ]
  },
  {
   "cell_type": "markdown",
   "id": "46c58d73",
   "metadata": {},
   "source": [
    "- Try commenting the \"replace NaNs\" line, you will notice nans in the metrics. \n",
    "- Even setting the ds.where(mask,0), which makes the points outside NYS to 0, will still result in NaNs, due to the Long Island.\n",
    "- So, always set/replace nans with 0. \n",
    "- An amazing observation is that, replacing nans with 0 (within NYS) will increase the metrics. \n",
    "- Thus, try setting 0 in the same place in both datasets. "
   ]
  },
  {
   "cell_type": "markdown",
   "id": "63660f4a",
   "metadata": {},
   "source": [
    "## Metrics of Barnes interpolation of RTMA and NYSM"
   ]
  },
  {
   "cell_type": "code",
   "execution_count": 6,
   "id": "2541376a",
   "metadata": {},
   "outputs": [
    {
     "name": "stdout",
     "output_type": "stream",
     "text": [
      "RTMA None i10fg\n",
      "RTMA None si10\n",
      "RTMA None t2m\n",
      "RTMA None sh2\n",
      "RTMA 50 i10fg\n",
      "RTMA 75 i10fg\n",
      "RTMA 100 i10fg\n",
      "NYSM None i10fg\n",
      "NYSM None si10\n",
      "NYSM None t2m\n",
      "NYSM None sh2\n",
      "NYSM 50 i10fg\n",
      "NYSM 75 i10fg\n",
      "NYSM 100 i10fg\n"
     ]
    }
   ],
   "source": [
    "data_types = ['RTMA', 'NYSM']\n",
    "stations_seed = 42\n",
    "n_random_stations = [None, 50, 75, 100]\n",
    "\n",
    "# Load NYSM once\n",
    "NYSM = xr.open_dataset('data/NYSM.nc')\n",
    "NYSM['longitude'] = (NYSM['longitude'] + 360) % 360\n",
    "NYSM_lat = NYSM.latitude.values\n",
    "NYSM_lon = NYSM.longitude.values\n",
    "station_points = np.stack([NYSM_lat.ravel(), NYSM_lon.ravel()], axis=-1)\n",
    "tree = cKDTree(station_points)\n",
    "_, station_indices = tree.query(nysm_latlon)\n",
    "NYSM = NYSM.isel(station=station_indices).sel(time=slice(*test_dates_range)).resample(time='1h').nearest()\n",
    "\n",
    "for data_type in data_types:\n",
    "    for n_stations in n_random_stations:\n",
    "        if n_stations is not None:\n",
    "            dir_name = f'{n_stations}-random-stations'\n",
    "            vars = ['i10fg']\n",
    "            rng = np.random.default_rng(stations_seed)\n",
    "            perm = rng.permutation(len(nysm_latlon))\n",
    "            random_indices = perm[:n_stations]\n",
    "            local_y_indices = y_indices[random_indices]\n",
    "            local_x_indices = x_indices[random_indices]\n",
    "        else:\n",
    "            dir_name = 'all-stations'\n",
    "            vars = ['i10fg', 'si10', 't2m', 'sh2']\n",
    "            local_y_indices = y_indices\n",
    "            local_x_indices = x_indices\n",
    "\n",
    "        ds_all_vars = {}\n",
    "\n",
    "        for var in vars:\n",
    "            T = len(NYSM.time)  # or len(xr.open_zarr(ref_zarr_store)[var].sel(time=slice(*test_dates_range)).time)\n",
    "            H, W = RTMA_lat.shape\n",
    "\n",
    "            if data_type == 'RTMA':\n",
    "                station_mask = np.zeros((T, 1, H, W), dtype=np.uint8)\n",
    "                station_mask[:, 0, local_y_indices, local_x_indices] = 1\n",
    "\n",
    "            elif data_type == 'NYSM':\n",
    "                missing_mask = NYSM[var].T.isnull().values  # shape [T, N_stations]\n",
    "                station_mask = np.zeros((T, 1, H, W), dtype=np.uint8)\n",
    "                for s in range(len(local_y_indices)):\n",
    "                    y, x = local_y_indices[s], local_x_indices[s]\n",
    "                    present_mask = ~missing_mask[:, s]\n",
    "                    station_mask[present_mask, 0, y, x] = 1\n",
    "\n",
    "            # Load predictions and targets\n",
    "            target_ds = xr.open_zarr(ref_zarr_store)[var].sel(time=slice(*test_dates_range))\n",
    "            test_zarr_store = f'data/Barnes_interpolated/{stations_seed}/{dir_name}/{data_type}_test.zarr'\n",
    "            test_ds = xr.open_zarr(test_zarr_store)[var].sel(time=slice(*test_dates_range))\n",
    "\n",
    "            target_tensor = torch.tensor(target_ds.values, dtype=torch.float32).unsqueeze(1)\n",
    "            test_tensor = torch.tensor(test_ds.values, dtype=torch.float32).unsqueeze(1)\n",
    "            nan_mask = torch.isnan(target_tensor) | torch.isnan(test_tensor)\n",
    "            target_tensor = target_tensor.masked_fill(nan_mask, 0.0)\n",
    "            test_tensor = test_tensor.masked_fill(nan_mask, 0.0)\n",
    "            station_mask_tensor = torch.tensor(station_mask, dtype=torch.float32)\n",
    "\n",
    "            metric_names = list(metrics.keys())\n",
    "            \n",
    "            # Compute per-time metrics\n",
    "            results = [metrics[k](test_tensor, target_tensor, station_mask_tensor, reduction='none') for k in metric_names]\n",
    "            data_array = torch.stack(results, dim=0).T  # [time, metric]\n",
    "            da = xr.DataArray(\n",
    "                data=data_array.numpy(),\n",
    "                dims=[\"time\", \"metric\"],\n",
    "                coords={\"time\": target_ds.time.values, \"metric\": metric_names},\n",
    "                name=var\n",
    "            )\n",
    "            \n",
    "            # Compute overall metrics\n",
    "            # Exclude the missing time instance from both the data, when computing the overall metrics.clear\n",
    "            missing_times = xr.open_dataset(f'nan_times_{var}.nc').time\n",
    "\n",
    "            # === Filter time indices ===\n",
    "            valid_time_mask = ~target_ds.time.isin(missing_times)\n",
    "            valid_time_indices = np.where(valid_time_mask.values)[0]\n",
    "\n",
    "            # === Subset all time-dependent tensors ===\n",
    "            target_tensor = torch.tensor(target_ds.isel(time=valid_time_indices).values, dtype=torch.float32).unsqueeze(1)\n",
    "            test_tensor = torch.tensor(test_ds.isel(time=valid_time_indices).values, dtype=torch.float32).unsqueeze(1)\n",
    "            station_mask_tensor = torch.tensor(station_mask[valid_time_indices], dtype=torch.float32)\n",
    "            nan_mask = torch.isnan(target_tensor) | torch.isnan(test_tensor)\n",
    "            target_tensor = target_tensor.masked_fill(nan_mask, 0.0)\n",
    "            test_tensor = test_tensor.masked_fill(nan_mask, 0.0)\n",
    "\n",
    "            summary_values = []\n",
    "            for key in metric_names:\n",
    "                reduction = 'global' if key == 'masked_rmse' else 'elementwise_mean'\n",
    "                overall_metric = metrics[key](test_tensor, target_tensor, station_mask_tensor, reduction=reduction)\n",
    "                summary_values.append(overall_metric.item())\n",
    "\n",
    "            summary_da = xr.DataArray(\n",
    "                data=np.array(summary_values),\n",
    "                dims=[\"metric\"],\n",
    "                coords={\"metric\": metric_names},\n",
    "                name=f\"{var}_summary\"\n",
    "            )\n",
    "\n",
    "            ds_all_vars[var] = da\n",
    "            ds_all_vars[f\"{var}_summary\"] = summary_da\n",
    "\n",
    "            print(data_type,n_stations,var)\n",
    "\n",
    "        combined_ds = xr.Dataset(ds_all_vars)\n",
    "        combined_ds.to_netcdf(f'data/Barnes_interpolated/{stations_seed}/{dir_name}/{data_type}_test_metrics.nc')\n"
   ]
  }
 ],
 "metadata": {
  "kernelspec": {
   "display_name": "Python 3",
   "language": "python",
   "name": "python3"
  },
  "language_info": {
   "codemirror_mode": {
    "name": "ipython",
    "version": 3
   },
   "file_extension": ".py",
   "mimetype": "text/x-python",
   "name": "python",
   "nbconvert_exporter": "python",
   "pygments_lexer": "ipython3",
   "version": "3.12.3"
  }
 },
 "nbformat": 4,
 "nbformat_minor": 5
}
